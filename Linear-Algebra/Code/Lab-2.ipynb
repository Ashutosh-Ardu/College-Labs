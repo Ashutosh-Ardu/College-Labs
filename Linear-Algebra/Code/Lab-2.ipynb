{
 "cells": [
  {
   "cell_type": "markdown",
   "metadata": {},
   "source": [
    "# Lab 2"
   ]
  },
  {
   "cell_type": "markdown",
   "metadata": {},
   "source": [
    "- Code 1"
   ]
  },
  {
   "cell_type": "code",
   "execution_count": 2,
   "metadata": {},
   "outputs": [],
   "source": [
    "import numpy as np"
   ]
  },
  {
   "cell_type": "code",
   "execution_count": 3,
   "metadata": {},
   "outputs": [
    {
     "name": "stdout",
     "output_type": "stream",
     "text": [
      "[1 2 7 4 1 8 3 5 0 1 2 3 4 5]\n"
     ]
    }
   ],
   "source": [
    "# concatenating in row form\n",
    "A = np.array([1,2,7,4,1,8,3,5])# vector\n",
    "A1 = np.array( range(6))\n",
    "Abig = np.concatenate( (A,A1) )\n",
    "print(Abig)"
   ]
  },
  {
   "cell_type": "markdown",
   "metadata": {},
   "source": [
    "- Code 2"
   ]
  },
  {
   "cell_type": "code",
   "execution_count": 4,
   "metadata": {},
   "outputs": [
    {
     "name": "stdout",
     "output_type": "stream",
     "text": [
      "[[10  1  1 12]\n",
      " [ 1 10  1 12]\n",
      " [ 1  1 10 12]]\n"
     ]
    }
   ],
   "source": [
    "# concatenating in column form\n",
    "import numpy as np\n",
    "A = np.array([[10,1,1],[1,10,1],[1,1,10]])# vector\n",
    "A1 = np.array( [[12,12,12]]).T\n",
    "Abig=np.column_stack((A, A1))\n",
    "print(Abig)"
   ]
  },
  {
   "cell_type": "markdown",
   "metadata": {},
   "source": [
    "- Code 3"
   ]
  },
  {
   "cell_type": "code",
   "execution_count": null,
   "metadata": {},
   "outputs": [],
   "source": [
    "from sympy import *"
   ]
  },
  {
   "cell_type": "code",
   "execution_count": null,
   "metadata": {},
   "outputs": [],
   "source": [
    "# Gauss-Jordan Method\n",
    "# Reduced Row Echelon Form (given in notes) here the leading element is always \"1\"\n",
    "M=Matrix([[10,1,1,12],[1,10,1,12],[1,1,10,12]])\n",
    "M_rref = M.rref()\n",
    "print(M_rref)\n",
    "# (0, 1, 2) (the column index of leading element)\n",
    "# columns having only one non-zero element\n",
    "#   0  1  2  3\n",
    "# [[1, 0, 0, 1],\n",
    "# [0, 1, 0, 1],\n",
    "# [0, 0, 1, 1]]"
   ]
  },
  {
   "cell_type": "markdown",
   "metadata": {},
   "source": [
    "- Code 4"
   ]
  },
  {
   "cell_type": "code",
   "execution_count": null,
   "metadata": {},
   "outputs": [],
   "source": [
    "from scipy.linalg import lu"
   ]
  },
  {
   "cell_type": "code",
   "execution_count": null,
   "metadata": {},
   "outputs": [],
   "source": [
    "# LU decomposition\n",
    "A = np.array([[2, 5, 8, 7], [5, 2, 2, 8], [7, 5, 6, 6], [5, 4, 4, 8]])\n",
    "p, l, u = lu(A)\n",
    "# p - permutation matrix\n",
    "# l - lower triangular matrix\n",
    "# u - upper triangular matrix\n",
    "print(p)\n",
    "print(l)\n",
    "print(u)"
   ]
  },
  {
   "cell_type": "markdown",
   "metadata": {},
   "source": [
    "- Code 5"
   ]
  },
  {
   "cell_type": "code",
   "execution_count": 4,
   "metadata": {},
   "outputs": [
    {
     "name": "stdout",
     "output_type": "stream",
     "text": [
      "[1. 1. 1.]\n"
     ]
    }
   ],
   "source": [
    "# solving linear equation using LU decomposition\n",
    "from scipy.linalg import lu_factor, lu_solve\n",
    "A = np.array([[10,1,1],[1,10,1],[1,1,10]])\n",
    "b = np.array([12, 12, 12])\n",
    "lu, piv = lu_factor(A)\n",
    "x = lu_solve((lu, piv), b)\n",
    "print(x)"
   ]
  },
  {
   "cell_type": "markdown",
   "metadata": {},
   "source": [
    "- Code 6"
   ]
  },
  {
   "cell_type": "code",
   "execution_count": 5,
   "metadata": {},
   "outputs": [
    {
     "name": "stdout",
     "output_type": "stream",
     "text": [
      "[[ 2.44948974  0.          0.          0.        ]\n",
      " [ 1.22474487  2.12132034  0.          0.        ]\n",
      " [ 1.63299316  1.41421356  2.30940108  0.        ]\n",
      " [ 3.26598632 -1.41421356  1.58771324  3.13249102]]\n",
      "[[ 6.  3.  4.  8.]\n",
      " [ 3.  6.  5.  1.]\n",
      " [ 4.  5. 10.  7.]\n",
      " [ 8.  1.  7. 25.]]\n"
     ]
    }
   ],
   "source": [
    "# choklesky decomposition - matrix with +ve definite or |A| > 0 \n",
    "A = np.array([[6, 3, 4, 8], [3, 6, 5, 1], [4, 5, 10, 7], [8, 1, 7, 25]])\n",
    "L = np.linalg.cholesky(A)\n",
    "print(L)\n",
    "final = np.dot(L,L.T) # A = L*L^T \n",
    "print(final) # getting back the yield"
   ]
  },
  {
   "cell_type": "markdown",
   "metadata": {},
   "source": [
    "- Code 7"
   ]
  },
  {
   "cell_type": "code",
   "execution_count": 7,
   "metadata": {},
   "outputs": [
    {
     "name": "stdout",
     "output_type": "stream",
     "text": [
      "array([[ 6,  3,  4,  8],\n",
      "       [ 3,  6,  5,  1],\n",
      "       [ 4,  5, 10,  7],\n",
      "       [ 8,  1,  7, 25]])\n",
      "array([[ 2.44948974,  0.        ,  0.        ,  0.        ],\n",
      "       [ 1.22474487,  2.12132034,  0.        ,  0.        ],\n",
      "       [ 1.63299316,  1.41421356,  2.30940108,  0.        ],\n",
      "       [ 3.26598632, -1.41421356,  1.58771324,  3.13249102]])\n",
      "array([[ 2.44948974,  1.22474487,  1.63299316,  3.26598632],\n",
      "       [ 0.        ,  2.12132034,  1.41421356, -1.41421356],\n",
      "       [ 0.        ,  0.        ,  2.30940108,  1.58771324],\n",
      "       [ 0.        ,  0.        ,  0.        ,  3.13249102]])\n"
     ]
    }
   ],
   "source": [
    "import pprint # align the output in matrix form rather than printing it into a straight line\n",
    "import scipy\n",
    "import scipy.linalg # SciPy Linear Algebra Library\n",
    "A = np.array([[6, 3, 4, 8], [3, 6, 5, 1], [4, 5, 10, 7], [8, 1, 7, 25]])\n",
    "L = scipy.linalg.cholesky(A, lower=True)\n",
    "U = scipy.linalg.cholesky(A, lower=False)\n",
    "\n",
    "pprint.pprint(A) # original matrix\n",
    "pprint.pprint(L) # lower triangular matrix\n",
    "pprint.pprint(U) # lower triangular matrix's transpose"
   ]
  },
  {
   "cell_type": "markdown",
   "metadata": {},
   "source": [
    "- Code 8\n",
    "- Consistency and Inconsistency of a system\n"
   ]
  },
  {
   "cell_type": "code",
   "execution_count": 1,
   "metadata": {},
   "outputs": [
    {
     "name": "stdout",
     "output_type": "stream",
     "text": [
      "[[10  1  1 12]\n",
      " [ 1 10  1 12]\n",
      " [ 1  1 10 12]]\n",
      "3\n",
      "3\n",
      "The system is consistent\n",
      "[[1.]\n",
      " [1.]\n",
      " [1.]]\n"
     ]
    }
   ],
   "source": [
    "# consistency and inconsistency of a system\n",
    "import numpy as np\n",
    "A = np.array([[10,1,1],[1,10,1],[1,1,10]])# vector\n",
    "A1 = np.array( [[12,12,12]]).T\n",
    "Abig=np.column_stack((A, A1)) # concatenating A & A1\n",
    "print(Abig)\n",
    "c=np.linalg.matrix_rank(Abig)\n",
    "print(c)\n",
    "d=np.linalg.matrix_rank(A)\n",
    "print(d)\n",
    "if (c == d):\n",
    " print('The system is consistent')\n",
    " c=np.linalg.solve(A,A1)\n",
    " print(c)\n",
    "else:\n",
    " print(\"The system is inconsistent\")"
   ]
  }
 ],
 "metadata": {
  "interpreter": {
   "hash": "4ce0e62306dd6a5716965d4519ada776f947e6dfc145b604b11307c10277ef29"
  },
  "kernelspec": {
   "display_name": "Python 3.10.0 64-bit",
   "language": "python",
   "name": "python3"
  },
  "language_info": {
   "codemirror_mode": {
    "name": "ipython",
    "version": 3
   },
   "file_extension": ".py",
   "mimetype": "text/x-python",
   "name": "python",
   "nbconvert_exporter": "python",
   "pygments_lexer": "ipython3",
   "version": "3.10.0"
  },
  "orig_nbformat": 4
 },
 "nbformat": 4,
 "nbformat_minor": 2
}

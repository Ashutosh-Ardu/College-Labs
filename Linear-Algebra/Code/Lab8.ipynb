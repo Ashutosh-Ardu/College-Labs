{
 "cells": [
  {
   "cell_type": "markdown",
   "metadata": {},
   "source": [
    "#### Practice Questions\n",
    "- Q1"
   ]
  },
  {
   "cell_type": "code",
   "execution_count": null,
   "metadata": {},
   "outputs": [],
   "source": [
    "import numpy as np\n",
    "from numpy import linalg as la\n",
    "import scipy\n",
    "import math\n",
    "\n",
    "# part 1\n",
    "# a = np.array([[1,-1,1],[1,1,1],[0,1,1],[1,0,1]])\n",
    "# b = np.array([[2],[1],[0],[2]])\n",
    "# part 2\n",
    "# a = np.array([[0,2,0],[1,1,0],[-1,0,1],[1,1,1],[0,0,1]])\n",
    "# b = np.array([[0],[1],[0],[0],[1]])\n",
    "# part 3\n",
    "a = np.array([[0,2,1],[1,1,-1],[2,1,0],[1,1,1],[0,2,-1]])\n",
    "b = np.array([[1],[0],[1],[-1],[0]])\n",
    "u = np.matmul(a.T,a)\n",
    "v = np.matmul(a.T,b)\n",
    "out = np.linalg.solve(u,v)\n",
    "out1 = out[0] + out[1] * 30 + out[2] * 30**2\n",
    "print('Solution of linear equations:\\n',out)\n",
    "print('Estimated Population in 2010 ',out1)"
   ]
  },
  {
   "cell_type": "markdown",
   "metadata": {},
   "source": [
    "Solution of linear equations:\n",
    "\n",
    " [[0.06]\n",
    " [0.16]\n",
    " [0.  ]]\n",
    " Solution of linear equations:\n",
    " [[0.33333333]\n",
    " [0.        ]\n",
    " [0.33333333]]\n",
    " Solution of linear equations:\n",
    " [[ 1.16666667]\n",
    " [-0.5       ]\n",
    " [ 0.5       ]]"
   ]
  },
  {
   "cell_type": "markdown",
   "metadata": {},
   "source": [
    "- Q3"
   ]
  },
  {
   "cell_type": "code",
   "execution_count": 5,
   "metadata": {},
   "outputs": [
    {
     "name": "stdout",
     "output_type": "stream",
     "text": [
      "Norm of a :  4.242640687119285\n",
      "Norm of b :  17.4928556845359\n",
      "Distance between a & b :  324\n",
      "Innner Product :  0\n",
      "Angle between a & b :  90.0\n",
      "vectors are orthogonal\n",
      "Schwarz inequality satisfied\n",
      "Triangular Inequality satisfied\n"
     ]
    }
   ],
   "source": [
    "import numpy as np\n",
    "from numpy import linalg as la\n",
    "import scipy\n",
    "import math\n",
    "\n",
    "def caushySchwarz(a,b):\n",
    "  c = np.inner(a,b)\n",
    "  c1 = abs(c)\n",
    "  d1=la.norm(a)\n",
    "  d2 = la.norm(b)\n",
    "  d3 = d1*d2\n",
    "  if (c1 <= d3):\n",
    "      print('Schwarz inequality satisfied')\n",
    "  else:\n",
    "    print('Schwarz inequality not satisfied')\n",
    "\n",
    "def TriangularIn(a,b):\n",
    "  c = a+b\n",
    "  c1 = la.norm(c)\n",
    "  c2 = la.norm(a)\n",
    "  c3 = la.norm(b)\n",
    "  c4=c2+c3\n",
    "  if (c1 <= c4):\n",
    "    print('Triangular Inequality satisfied')\n",
    "  else:\n",
    "    print('Triangular Inequality not satisfied')\n",
    "\n",
    "def distbet(a,b):\n",
    "  c = []\n",
    "  for i in range(len(a)):\n",
    "    c.append(a[i]-b[i])\n",
    "  return np.inner(c,c)\n",
    "\n",
    "def anglebetween(a,b):\n",
    "  u=np.inner(a,b)\n",
    "  v=la.norm(a)\n",
    "  w=la.norm(b)\n",
    "  return math.degrees(math.acos(u/(v*w)))\n",
    "\n",
    "\n",
    "# a = np.array([1,3,-2])\n",
    "# b = np.array([1,2,-1])\n",
    "# a = np.array([1,2,-1])\n",
    "# b = np.array([-1,2,-1])\n",
    "# a = np.array([0,1,3,-6])\n",
    "# b = np.array([-1,1,2,2])\n",
    "# a = np.array([-1,4,-2,-3])\n",
    "# b = np.array([2,-1,2,-1])\n",
    "# a = np.array([4,-1,1])\n",
    "b = np.array([-1,0,4])\n",
    "b = np.array([-4,-17,-1])\n",
    "c = np.inner(a,b)\n",
    "normA = la.norm(a)\n",
    "normB = la.norm(b)\n",
    "dist = abs(distbet(a,b))\n",
    "theta = anglebetween(a,b)\n",
    "print('Norm of a : ',normA)\n",
    "print('Norm of b : ',normB)\n",
    "print('Distance between a & b : ',dist)\n",
    "print('Innner Product : ',c)\n",
    "print('Angle between a & b : ',theta)\n",
    "\n",
    "if c == 0 :\n",
    "  print(\"vectors are orthogonal\")\n",
    "else:\n",
    "  print(\"vectors are not orthogonal\")\n",
    "\n",
    "caushySchwarz(a,b)\n",
    "TriangularIn(a,b)"
   ]
  },
  {
   "cell_type": "markdown",
   "metadata": {},
   "source": [
    "- Q2"
   ]
  },
  {
   "cell_type": "code",
   "execution_count": 8,
   "metadata": {},
   "outputs": [
    {
     "name": "stdout",
     "output_type": "stream",
     "text": [
      "-0.782558139534884 2.282558139534884\n"
     ]
    }
   ],
   "source": [
    "# x = [1,2,3,4]\n",
    "# y = [6337,6487,6627,6635]\n",
    "# x = [-5,0,5,10]\n",
    "# y = [1,1,2,4]\n",
    "x = [1,2,3,4,5,6,7]\n",
    "y = [1.5,3.8,6.7,9.0,11.2,13.6,16.0]\n",
    "x1,y1 = [],[]\n",
    "xmean = sum(x) / 4\n",
    "ymean = sum(y) / 4\n",
    "\n",
    "for i in range(4):\n",
    "  x[i] -= xmean\n",
    "  y[i] -= ymean\n",
    "  x1.append(x[i]**2)\n",
    "  y1.append(y[i]*x[i])\n",
    "\n",
    "x1Sum = sum(x1)\n",
    "y1Sum = sum(y1)\n",
    "b1  = y1Sum / x1Sum\n",
    "b0 = 1.5 - b1 * 1\n",
    "print(b0,b1)"
   ]
  },
  {
   "cell_type": "markdown",
   "metadata": {},
   "source": [
    "- Plotting the Points"
   ]
  },
  {
   "cell_type": "code",
   "execution_count": 9,
   "metadata": {},
   "outputs": [
    {
     "name": "stdout",
     "output_type": "stream",
     "text": [
      "[1, 2, 3, 4] [1.5, 3.782558139534884, 6.065116279069768, 8.347674418604651]\n"
     ]
    },
    {
     "data": {
      "image/png": "[encoded data removed]",
      "text/plain": [
       "<Figure size 432x288 with 1 Axes>"
      ]
     },
     "metadata": {
      "needs_background": "light"
     },
     "output_type": "display_data"
    }
   ],
   "source": [
    "import matplotlib.pyplot as plt\n",
    "a,b = [],[]\n",
    "for i in range(1,5):\n",
    "  a.append(i)\n",
    "  b.append(b0 + b1 * a[i-1])\n",
    "print(a,b)\n",
    "plt.plot(a,b)\n",
    "plt.show()"
   ]
  },
  {
   "cell_type": "markdown",
   "metadata": {},
   "source": [
    "- Q2"
   ]
  },
  {
   "cell_type": "code",
   "execution_count": null,
   "metadata": {},
   "outputs": [],
   "source": [
    "import numpy as np\n",
    "from numpy import linalg as la\n",
    "import scipy\n",
    "import math\n",
    "\n",
    "a = np.array([[1,0,0],[1,5,25],[1,10,100],[1,15,225],[1,20,400],[1,25,625]])\n",
    "b = np.array([4.5,4.8,5.3,5.7,6.1,6.5])\n",
    "\n",
    "u = np.matmul(a.T,a)\n",
    "v = np.matmul(a.T,b)\n",
    "out = np.linalg.solve(u,v)\n",
    "print('Solution of linear equations:\\n',out)\n",
    "\n",
    "out1 = out[0] + out[1] * 5 + out[2] * 25\n",
    "print(out1)"
   ]
  },
  {
   "cell_type": "markdown",
   "metadata": {},
   "source": [
    "#### PCA"
   ]
  },
  {
   "cell_type": "code",
   "execution_count": 3,
   "metadata": {},
   "outputs": [
    {
     "name": "stdout",
     "output_type": "stream",
     "text": [
      "Matrix A\n",
      " [[1 2 3]\n",
      " [4 5 6]\n",
      " [7 8 9]]\n",
      "Mean of each Column\n",
      "[4. 5. 6.]\n",
      "Subtracting with column means\n",
      "[[-3. -3. -3.]\n",
      " [ 0.  0.  0.]\n",
      " [ 3.  3.  3.]]\n",
      "Calculating the covariance matrix\n",
      "[[9. 9. 9.]\n",
      " [9. 9. 9.]\n",
      " [9. 9. 9.]]\n",
      "Eigen Vectors\n",
      "[[-0.81649658  0.57735027  0.        ]\n",
      " [ 0.40824829  0.57735027 -0.70710678]\n",
      " [ 0.40824829  0.57735027  0.70710678]]\n",
      "Eigen Values\n",
      "[ 0. 27.  0.]\n",
      "Final PCA\n",
      "[[ 1.11022302e-16 -5.19615242e+00  4.44089210e-16]\n",
      " [ 0.00000000e+00  0.00000000e+00  0.00000000e+00]\n",
      " [-1.11022302e-16  5.19615242e+00 -4.44089210e-16]]\n"
     ]
    }
   ],
   "source": [
    "from numpy import array\n",
    "from numpy import mean\n",
    "from numpy import cov\n",
    "from numpy.linalg import eig\n",
    "# define a matrix\n",
    "A = array([[1,2,3], [4,5,6], [7,8,9]])\n",
    "print(\"Matrix A\\n\",A)\n",
    "# calculate the mean of each column\n",
    "M = mean(A.T, axis=1)\n",
    "print('Mean of each Column')\n",
    "print(M)\n",
    "# center columns by subtracting column means\n",
    "print(\"Subtracting with column means\")\n",
    "C = A - M\n",
    "print(C)\n",
    "# calculate covariance matrix of centered matrix\n",
    "print(\"Calculating the covariance matrix\")\n",
    "V = cov(C.T)\n",
    "print(V)\n",
    "# eigendecomposition of covariance matrix\n",
    "values, vectors = eig(V)\n",
    "print(\"Eigen Vectors\")\n",
    "print(vectors)\n",
    "print(\"Eigen Values\")\n",
    "print(values)\n",
    "# project data\n",
    "print(\"Final PCA\")\n",
    "P = vectors.T.dot(C.T)\n",
    "print(P.T)"
   ]
  },
  {
   "cell_type": "code",
   "execution_count": null,
   "metadata": {},
   "outputs": [],
   "source": []
  }
 ],
 "metadata": {
  "interpreter": {
   "hash": "2469a70536e4d2335a2ea8907942d0699c37342a371ac185bdb5b0aa6f073890"
  },
  "kernelspec": {
   "display_name": "Python 3.10.0 64-bit",
   "language": "python",
   "name": "python3"
  },
  "language_info": {
   "codemirror_mode": {
    "name": "ipython",
    "version": 3
   },
   "file_extension": ".py",
   "mimetype": "text/x-python",
   "name": "python",
   "nbconvert_exporter": "python",
   "pygments_lexer": "ipython3",
   "version": "3.10.0"
  },
  "orig_nbformat": 4
 },
 "nbformat": 4,
 "nbformat_minor": 2
}

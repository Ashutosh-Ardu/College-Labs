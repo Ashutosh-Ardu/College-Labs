{
 "cells": [
  {
   "cell_type": "markdown",
   "metadata": {},
   "source": [
    "### Plotting of Curves & Surfaces using MatPlotLib\n",
    "- Contour Maps\n",
    "- X^2 + Y^2 = Z"
   ]
  },
  {
   "cell_type": "code",
   "execution_count": null,
   "metadata": {},
   "outputs": [],
   "source": [
    "import matplotlib.pyplot as plt\n",
    "import numpy as np\n",
    "x = np.arange(-10, 10, 0.2)\n",
    "y = np.arange(-10, 10, 0.2)\n",
    "[X,Y] = np.meshgrid(x,y)\n",
    "fig, ax = plt.subplots(1, 1)\n",
    "Z = X ** 2 + Y ** 2\n",
    "ax.contour(X, Y, Z)\n",
    "ax.set_title('Contour Plot')\n",
    "ax.set_xlabel('x')\n",
    "ax.set_ylabel('y')\n",
    "plt.show()"
   ]
  },
  {
   "cell_type": "markdown",
   "metadata": {},
   "source": [
    "- z = sin(xy)"
   ]
  },
  {
   "cell_type": "code",
   "execution_count": null,
   "metadata": {},
   "outputs": [],
   "source": [
    "import matplotlib.pyplot as plt\n",
    "import numpy as np\n",
    "x = np.arange(-10, 10, 0.2)\n",
    "y = np.arange(-10, 10, 0.2)\n",
    "[X,Y] = np.meshgrid(x,y)\n",
    "fig, ax = plt.subplots(1, 1)\n",
    "Z = np.sin(X*Y)\n",
    "ax.contour(X, Y, Z,cmap = \"RdGy\")\n",
    "ax.set_title('Contour Plot')\n",
    "ax.set_xlabel('x')\n",
    "ax.set_ylabel('y')\n",
    "plt.show()"
   ]
  },
  {
   "cell_type": "markdown",
   "metadata": {},
   "source": [
    "- Contourf \n",
    "- outlines the edges clearly"
   ]
  },
  {
   "cell_type": "code",
   "execution_count": null,
   "metadata": {},
   "outputs": [],
   "source": [
    "import matplotlib.pyplot as plt\n",
    "import numpy as np\n",
    "x = np.arange(-10, 10, 0.2)\n",
    "y = np.arange(-10, 10, 0.2)\n",
    "[X,Y] = np.meshgrid(x,y)\n",
    "fig, ax = plt.subplots(1, 1)\n",
    "Z = np.sin(X*Y)\n",
    "# number here controls the total no of contours\n",
    "ax.contourf(X, Y, Z,20,cmap = \"RdGy\")\n",
    "ax.set_title('Contour Plot')\n",
    "ax.set_xlabel('x')\n",
    "ax.set_ylabel('y')\n",
    "plt.show()"
   ]
  },
  {
   "cell_type": "markdown",
   "metadata": {},
   "source": [
    "- Adding Colors"
   ]
  },
  {
   "cell_type": "code",
   "execution_count": null,
   "metadata": {},
   "outputs": [],
   "source": [
    "import matplotlib.pyplot as plt\n",
    "import numpy as np\n",
    "x = np.arange(-10, 10, 0.2)\n",
    "y = np.arange(-10, 10, 0.2)\n",
    "[X,Y] = np.meshgrid(x,y)\n",
    "fig, ax = plt.subplots(1, 1)\n",
    "Z = X**2 + Y**2\n",
    "ax.contourf(X, Y, Z,cmap = \"RdGy\")\n",
    "ax.set_title('Contour Plot')\n",
    "ax.set_xlabel('x')\n",
    "ax.set_ylabel('y')\n",
    "plt.show()\n",
    "plt.imshow(Z,extent = [0,5,0,5] , origin = \"lower\" , cmap = \"RdGy\")\n",
    "plt.colorbar()"
   ]
  },
  {
   "cell_type": "markdown",
   "metadata": {},
   "source": [
    "- Contour Subplots"
   ]
  },
  {
   "cell_type": "code",
   "execution_count": null,
   "metadata": {},
   "outputs": [],
   "source": [
    "import matplotlib.pyplot as plt\n",
    "import numpy as np\n",
    "x = np.arange(-10, 10, 0.2)\n",
    "y = np.arange(-10, 10, 0.2)\n",
    "[X,Y] = np.meshgrid(x,y)\n",
    "# all the functions\n",
    "Z1 = np.sin(X*Y)\n",
    "Z2 = np.sin(X-Y)\n",
    "Z3 = (1 - X**2)*(1 - Y**2)\n",
    "Z4 = np.exp(X) * np.cos(Y)\n",
    "Z5 = np.sin(X) - np.sin(Y)\n",
    "Z6 = (X - Y)/(1 + X**2 + Y**2)\n",
    "# creating the subplots\n",
    "fig, axs = plt.subplots(2, 3)\n",
    "# assign each their respective subplots\n",
    "pc = axs[0, 0].contour(X, Y, Z1)\n",
    "axs[0, 0].set_title('sin(xy)')\n",
    "pc = axs[0, 1].contour(X, Y, Z2)\n",
    "axs[0, 1].set_title('sin(x-y)')\n",
    "pc = axs[0, 2].contour(X, Y, Z3)\n",
    "axs[0, 2].set_title('(1 - x^2)(1-y^2')\n",
    "pc = axs[1, 0].contour(X, Y, Z4)\n",
    "axs[1, 0].set_title('e^x cos(y)')\n",
    "pc = axs[1, 1].contour(X, Y, Z5)\n",
    "axs[1, 1].set_title('sin(x) - sin(y)')\n",
    "pc = axs[1, 2].contour(X, Y, Z6)\n",
    "axs[1, 2].set_title('(x-y)/(1 + x^2 + y^2)')\n",
    "plt.show()"
   ]
  },
  {
   "cell_type": "markdown",
   "metadata": {},
   "source": [
    "- Vector Fields\n",
    "- F = X + Y "
   ]
  },
  {
   "cell_type": "code",
   "execution_count": null,
   "metadata": {},
   "outputs": [],
   "source": [
    "import numpy as np\n",
    "import matplotlib.pyplot as plt\n",
    "%matplotlib inline\n",
    "x,y = np.meshgrid(np.linspace(-5,5,10),np.linspace(-5,5,10))\n",
    "u = x**2\n",
    "v = y**3\n",
    "plt.quiver(x,y,u,v)"
   ]
  },
  {
   "cell_type": "markdown",
   "metadata": {},
   "source": [
    "- Plotting 3D Graph"
   ]
  },
  {
   "cell_type": "code",
   "execution_count": null,
   "metadata": {},
   "outputs": [],
   "source": [
    "from mpl_toolkits.mplot3d import axes3d\n",
    "import matplotlib.pyplot as plt\n",
    "import numpy as np\n",
    "%matplotlib inline\n",
    "fig = plt.figure()\n",
    "ax = fig.gca(projection='3d')\n",
    "x, y, z = np.meshgrid(np.arange(-1, 1, 0.3),np.arange(-1, 1, 0.3),np.arange(-1, 1, 0.8))\n",
    "u=x**x\n",
    "v=y**y\n",
    "w=z**z\n",
    "ax.quiver(x, y, z, u, v, w, length=0.4, color = 'blue')\n",
    "plt.show()"
   ]
  },
  {
   "cell_type": "markdown",
   "metadata": {},
   "source": [
    "- Stem Plot"
   ]
  },
  {
   "cell_type": "code",
   "execution_count": null,
   "metadata": {},
   "outputs": [],
   "source": [
    "import matplotlib.pyplot as plt\n",
    "import numpy as np\n",
    "x = np.linspace(0.1, 2 * np.pi,84)\n",
    "y = np.exp(np.cos(x))\n",
    "plt.stem(x, y)\n",
    "plt.show()"
   ]
  },
  {
   "cell_type": "markdown",
   "metadata": {},
   "source": [
    "- e^cos(x)"
   ]
  },
  {
   "cell_type": "code",
   "execution_count": null,
   "metadata": {},
   "outputs": [],
   "source": [
    "import matplotlib.pyplot as plt\n",
    "import numpy as np\n",
    "x = np.linspace(0.1, 2 * np.pi, 41)\n",
    "y = np.exp(np.cos(x))\n",
    "markerline, stemlines, baseline = plt.stem(\n",
    "    x, y, linefmt='grey', markerfmt='D', bottom=1.1)\n",
    "markerline.set_markerfacecolor('none')\n",
    "plt.show()"
   ]
  },
  {
   "cell_type": "markdown",
   "metadata": {},
   "source": [
    "- Pie Chart"
   ]
  },
  {
   "cell_type": "code",
   "execution_count": null,
   "metadata": {},
   "outputs": [],
   "source": [
    "from matplotlib import pyplot as plt\n",
    "import numpy as np\n",
    "colors = ( \"orange\", \"blue\")\n",
    "Earth = ['Land ',  ' Water']\n",
    "data = [29.2, 70.8]\n",
    "fig=plt.figure(figsize=(10, 7))\n",
    "plt.pie(data, labels = Earth, colors = colors)\n",
    "plt.title('Earth')\n",
    "plt.show()"
   ]
  },
  {
   "cell_type": "markdown",
   "metadata": {},
   "source": [
    "- Bar Plot"
   ]
  },
  {
   "cell_type": "code",
   "execution_count": null,
   "metadata": {},
   "outputs": [],
   "source": [
    "import numpy as np\n",
    "import matplotlib.pyplot as plt\n",
    "fig = plt.figure(figsize = (6, 4))\n",
    "langs = ['C++', 'Java', 'Python']\n",
    "students = [50,45,85]\n",
    "plt.bar(langs,students,color = ['r','g','b'], width = 0.3)\n",
    "plt.xlabel(\"Courses offered\")\n",
    "plt.ylabel(\"No. of students enrolled\")\n",
    "plt.title('Bar plot')\n",
    "plt.show()"
   ]
  },
  {
   "cell_type": "markdown",
   "metadata": {},
   "source": [
    "### Practice Questions\n",
    "- Q1"
   ]
  },
  {
   "cell_type": "code",
   "execution_count": null,
   "metadata": {},
   "outputs": [],
   "source": [
    "import numpy as np\n",
    "import matplotlib.pyplot as plt\n",
    "coord = [[0,0],[2,0],[2,2],[0,2]]\n",
    "xs,ys=zip(*coord) # create lists of x and y values\n",
    "plot1=plt.figure(1)\n",
    "plt.plot(xs,ys)\n",
    "A=np.array([[np.cos(np.pi/2),-np.sin(np.pi/2)],[np.sin(np.pi/2),np.cos(np.pi/2)]])\n",
    "B = np.array([[0,0],[2,0],[2,2],[0,2]])\n",
    "print(B)\n",
    "B1=B.transpose((1,0))\n",
    "print(B1)\n",
    "C=np.matmul(A,B1)\n",
    "print(C)\n",
    "xs1,ys1=(C)\n",
    "plot2=plt.figure(2)\n",
    "plt.plot(xs1,ys1)\n",
    "plt.legend([\"Rotation by 90 deg - CounterClockwise\"],loc=\"center\")"
   ]
  },
  {
   "cell_type": "markdown",
   "metadata": {},
   "source": [
    "- Q2"
   ]
  },
  {
   "cell_type": "code",
   "execution_count": null,
   "metadata": {},
   "outputs": [],
   "source": [
    "import numpy as np\n",
    "import matplotlib.pyplot as plt\n",
    "coord = [[0,0],[2,0],[2,2],[0,2]]\n",
    "xs,ys=zip(*coord) # create lists of x and y values\n",
    "plot1=plt.figure(1)\n",
    "plt.plot(xs,ys)\n",
    "A=np.array([[1,2],[0,1]])\n",
    "B = np.array([[0,0],[2,0],[2,2],[0,2]])\n",
    "print(B)\n",
    "B1=B.transpose((1,0))\n",
    "print(B1)\n",
    "C=np.matmul(A,B1)\n",
    "print(C)\n",
    "xs1,ys1=(C)\n",
    "plot2=plt.figure(2)\n",
    "plt.plot(xs1,ys1)\n",
    "plt.legend([\"Shear along X axis\"],loc=\"center\")"
   ]
  },
  {
   "cell_type": "markdown",
   "metadata": {},
   "source": [
    "- Q3"
   ]
  },
  {
   "cell_type": "code",
   "execution_count": null,
   "metadata": {},
   "outputs": [],
   "source": [
    "import numpy as np\n",
    "import matplotlib.pyplot as plt\n",
    "coord = [[0,0],[2,0],[2,2],[0,2]]\n",
    "xs,ys=zip(*coord) # create lists of x and y values\n",
    "plot1=plt.figure(1)\n",
    "plt.plot(xs,ys)\n",
    "A=np.array([[1,0],[0,-1]])\n",
    "B = np.array([[0,0],[2,0],[2,2],[0,2]])\n",
    "\n",
    "\n",
    "print(B)\n",
    "B1=B.transpose((1,0))\n",
    "print(B1)\n",
    "C=np.matmul(A,B1)\n",
    "print(C)\n",
    "xs1,ys1=(C)\n",
    "#plot2=plt.figure(2)\n",
    "plt.plot(xs1,ys1)\n",
    "plt.legend([\"Reflection in y-axis\"],loc=\"upper right\")"
   ]
  },
  {
   "cell_type": "markdown",
   "metadata": {},
   "source": [
    "- Q4"
   ]
  },
  {
   "cell_type": "code",
   "execution_count": null,
   "metadata": {},
   "outputs": [],
   "source": [
    "import numpy as np\n",
    "import matplotlib.pyplot as plt\n",
    "coord = [[0,0],[2,0],[2,2],[0,2]]\n",
    "xs,ys=zip(*coord) # create lists of x and y values\n",
    "plot1=plt.figure(1)\n",
    "plt.plot(xs,ys)\n",
    "A=np.array([[-1,0],[0,1]])\n",
    "B = np.array([[0,0],[2,0],[2,2],[0,2]])\n",
    "print(B)\n",
    "B1=B.transpose((1,0))\n",
    "print(B1)\n",
    "C=np.matmul(A,B1)\n",
    "print(C)\n",
    "xs1,ys1=(C)\n",
    "# plot2=plt.figure(2)\n",
    "plt.plot(xs1,ys1)\n",
    "plt.legend([\"Reflection in y-axis\"],loc=\"upper right\")"
   ]
  },
  {
   "cell_type": "markdown",
   "metadata": {},
   "source": [
    "- Q5"
   ]
  },
  {
   "cell_type": "code",
   "execution_count": null,
   "metadata": {},
   "outputs": [],
   "source": [
    "import numpy as np\n",
    "import matplotlib.pyplot as plt\n",
    "coord = [[0,0],[2,0],[2,2],[0,2]]\n",
    "xs,ys=zip(*coord) # create lists of x and y values\n",
    "plot1=plt.figure(1)\n",
    "plt.plot(xs,ys)\n",
    "A=np.array([[0,1],[1,0]])\n",
    "B = np.array([[0,0],[2,0],[2,2],[0,2]])\n",
    "print(B)\n",
    "B1=B.transpose((1,0))\n",
    "print(B1)\n",
    "C=np.matmul(A,B1)\n",
    "print(C)\n",
    "xs1,ys1=(C)\n",
    "#plot2=plt.figure(2)\n",
    "plt.plot(xs1,ys1)\n",
    "plt.legend([\"Reflection along y = x\"],loc=\"center\")"
   ]
  },
  {
   "cell_type": "markdown",
   "metadata": {},
   "source": [
    "- Q6"
   ]
  },
  {
   "cell_type": "code",
   "execution_count": null,
   "metadata": {},
   "outputs": [],
   "source": [
    "import numpy as np\n",
    "import matplotlib.pyplot as plt\n",
    "coord = [[0,0],[2,0],[2,2],[0,2]]\n",
    "xs,ys=zip(*coord) # create lists of x and y values\n",
    "plot1=plt.figure(1)\n",
    "plt.plot(xs,ys)\n",
    "A=np.array([[2,0],[0,1]])\n",
    "B = np.array([[0,0],[2,0],[2,2],[0,2]])\n",
    "print(B)\n",
    "B1=B.transpose((1,0))\n",
    "print(B1)\n",
    "C=np.matmul(A,B1)\n",
    "print(C)\n",
    "xs1,ys1=(C)\n",
    "plot2=plt.figure(2)\n",
    "plt.plot(xs1,ys1)\n",
    "plt.legend([\"Translation along X axis\"],loc=\"center\")"
   ]
  },
  {
   "cell_type": "markdown",
   "metadata": {},
   "source": [
    "- Q7"
   ]
  },
  {
   "cell_type": "code",
   "execution_count": null,
   "metadata": {},
   "outputs": [],
   "source": [
    "import numpy as np\n",
    "import matplotlib.pyplot as plt\n",
    "coord = [[0,0],[2,0],[2,2],[0,2]]\n",
    "xs,ys=zip(*coord) # create lists of x and y values\n",
    "plot1=plt.figure(1)\n",
    "plt.plot(xs,ys)\n",
    "A=np.array([[2,2],[2,2],[2,2],[2,2]])\n",
    "B = np.array([[0,0],[2,0],[2,2],[0,2]])\n",
    "A=A.T\n",
    "print(B)\n",
    "B1=B.transpose((1,0))\n",
    "print(B1)\n",
    "C=np.add(A,B1)\n",
    "print(C)\n",
    "xs1,ys1=(C)\n",
    "plot2=plt.figure(2)\n",
    "plt.plot(xs1,ys1)\n",
    "plt.legend([\"Translation in x & y-axis\"],loc=\"center\")"
   ]
  },
  {
   "cell_type": "markdown",
   "metadata": {},
   "source": [
    "#### Part 2\n",
    "- [[0,0],[1,0],[0,2],[1,2]]\n"
   ]
  },
  {
   "cell_type": "code",
   "execution_count": null,
   "metadata": {},
   "outputs": [],
   "source": [
    "B = np.array([[0,0],[1,0],[0,2],[1,2]])"
   ]
  },
  {
   "cell_type": "markdown",
   "metadata": {},
   "source": [
    "#### Part 3\n",
    "- [[0,0],[2,0],[2,2],[0,2]]"
   ]
  },
  {
   "cell_type": "code",
   "execution_count": null,
   "metadata": {},
   "outputs": [],
   "source": [
    "B = np.array([[0,0],[2,0],[2,2],[0,2]])"
   ]
  }
 ],
 "metadata": {
  "interpreter": {
   "hash": "4ce0e62306dd6a5716965d4519ada776f947e6dfc145b604b11307c10277ef29"
  },
  "kernelspec": {
   "display_name": "Python 3.10.0 64-bit",
   "language": "python",
   "name": "python3"
  },
  "language_info": {
   "codemirror_mode": {
    "name": "ipython",
    "version": 3
   },
   "file_extension": ".py",
   "mimetype": "text/x-python",
   "name": "python",
   "nbconvert_exporter": "python",
   "pygments_lexer": "ipython3",
   "version": "3.10.0"
  },
  "orig_nbformat": 4
 },
 "nbformat": 4,
 "nbformat_minor": 2
}

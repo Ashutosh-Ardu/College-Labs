{
 "cells": [
  {
   "cell_type": "markdown",
   "metadata": {},
   "source": [
    "#### Single Value Decomposition\n",
    "- Example 1"
   ]
  },
  {
   "cell_type": "code",
   "execution_count": 2,
   "metadata": {},
   "outputs": [
    {
     "name": "stdout",
     "output_type": "stream",
     "text": [
      "[[1 1 0]\n",
      " [0 0 1]]\n",
      "----------------------------\n",
      "[[1. 0.]\n",
      " [0. 1.]]\n",
      "----------------------------\n",
      "[1.41421356 1.        ]\n",
      "----------------------------\n",
      "[[ 0.70710678  0.70710678  0.        ]\n",
      " [ 0.          0.          1.        ]\n",
      " [ 0.70710678 -0.70710678  0.        ]]\n"
     ]
    }
   ],
   "source": [
    "import numpy as np\n",
    "from scipy.linalg import svd\n",
    "# define a matrix\n",
    "A = np.array([[1,1,0], [0,0,1]])\n",
    "print(A)\n",
    "U, s, VT = svd(A)\n",
    "print(\"----------------------------\")\n",
    "print(U) # U matrix\n",
    "print(\"----------------------------\")\n",
    "print(s) # summation matrix \n",
    "print(\"----------------------------\")\n",
    "print(VT) # Vtranspose"
   ]
  },
  {
   "cell_type": "markdown",
   "metadata": {},
   "source": [
    "- Example 2"
   ]
  },
  {
   "cell_type": "code",
   "execution_count": null,
   "metadata": {},
   "outputs": [],
   "source": [
    "import numpy as np\n",
    "from scipy.linalg import svd\n",
    "# define a matrix\n",
    "A = np.array([[1,1],[1,0],[0,1]])\n",
    "print(A)\n",
    "U, s, VT = svd(A)\n",
    "print(\"----------------------------\")\n",
    "print(U) # U matrix\n",
    "print(\"----------------------------\")\n",
    "print(s) # summation matrix \n",
    "print(\"----------------------------\")\n",
    "print(VT) # Vtranspose"
   ]
  },
  {
   "cell_type": "markdown",
   "metadata": {},
   "source": [
    "### Pseudo Inverse of a Matrix\n",
    "- Moore-Penrose inverse"
   ]
  },
  {
   "cell_type": "code",
   "execution_count": 2,
   "metadata": {},
   "outputs": [
    {
     "name": "stdout",
     "output_type": "stream",
     "text": [
      "[[0.5 0. ]\n",
      " [0.5 0. ]\n",
      " [0.  1. ]]\n"
     ]
    }
   ],
   "source": [
    "A = np.array([[1, 1,0], [0, 0, 1]])\n",
    "#A = np.array([[7, 2], [3, 4], [5, 3]])\n",
    "# D - Singular Value \n",
    "# V - Sqrt of eigen val of AA^T\n",
    "U, D, V = np.linalg.svd(A)\n",
    "# rows n columns A.shape\n",
    "# D_plus is A^T with zeros filled in it\n",
    "D_plus = np.zeros((A.shape[0], A.shape[1])).T \n",
    "\n",
    "D_plus[:D.shape[0], :D.shape[0]] = np.linalg.inv(np.diag(D)) # Epsion+\n",
    "A_plus = V.T.dot(D_plus).dot(U.T)# A+\n",
    "A_plus\n",
    "print(A_plus)"
   ]
  },
  {
   "cell_type": "code",
   "execution_count": 3,
   "metadata": {},
   "outputs": [
    {
     "name": "stdout",
     "output_type": "stream",
     "text": [
      "[[ 0.16666667 -0.10606061  0.03030303]\n",
      " [-0.16666667  0.28787879  0.06060606]]\n"
     ]
    }
   ],
   "source": [
    "# A = np.array([[1, 1,0], [0, 0, 1]])\n",
    "A = np.array([[7, 2], [3, 4], [5, 3]])\n",
    "# D - Singular Value \n",
    "# V - Sqrt of eigen val of AA^T\n",
    "U, D, V = np.linalg.svd(A)\n",
    "# rows n columns A.shape\n",
    "# D_plus is A^T with zeros filled in it\n",
    "D_plus = np.zeros((A.shape[0], A.shape[1])).T \n",
    "\n",
    "D_plus[:D.shape[0], :D.shape[0]] = np.linalg.inv(np.diag(D)) # Epsion+\n",
    "A_plus = V.T.dot(D_plus).dot(U.T)# A+\n",
    "A_plus\n",
    "print(A_plus)"
   ]
  }
 ],
 "metadata": {
  "interpreter": {
   "hash": "4ce0e62306dd6a5716965d4519ada776f947e6dfc145b604b11307c10277ef29"
  },
  "kernelspec": {
   "display_name": "Python 3.10.0 64-bit",
   "language": "python",
   "name": "python3"
  },
  "language_info": {
   "codemirror_mode": {
    "name": "ipython",
    "version": 3
   },
   "file_extension": ".py",
   "mimetype": "text/x-python",
   "name": "python",
   "nbconvert_exporter": "python",
   "pygments_lexer": "ipython3",
   "version": "3.10.0"
  },
  "orig_nbformat": 4
 },
 "nbformat": 4,
 "nbformat_minor": 2
}

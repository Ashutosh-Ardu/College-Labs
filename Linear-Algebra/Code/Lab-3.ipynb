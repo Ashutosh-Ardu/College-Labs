{
 "cells": [
  {
   "cell_type": "markdown",
   "metadata": {},
   "source": [
    "### Eigen Values and Eigen Vectors"
   ]
  },
  {
   "cell_type": "markdown",
   "metadata": {},
   "source": [
    "- finding eigen value and eigen vectors of a given matrix using python"
   ]
  },
  {
   "cell_type": "code",
   "execution_count": 2,
   "metadata": {},
   "outputs": [],
   "source": [
    "import numpy as np"
   ]
  },
  {
   "cell_type": "code",
   "execution_count": 3,
   "metadata": {},
   "outputs": [
    {
     "name": "stdout",
     "output_type": "stream",
     "text": [
      "EigenValue:  [6. 1.]\n",
      "EigenVector:  [[ 0.9701425  -0.70710678]\n",
      " [ 0.24253563  0.70710678]]\n",
      "EigenValue:  [-2.  3.  6.]\n",
      "EigenVector:  [[ 7.07106781e-01 -5.77350269e-01 -4.08248290e-01]\n",
      " [-3.49081930e-17  5.77350269e-01 -8.16496581e-01]\n",
      " [-7.07106781e-01 -5.77350269e-01 -4.08248290e-01]]\n"
     ]
    }
   ],
   "source": [
    "a = np.array([[5,4], [1,2]])\n",
    "w,v = np.linalg.eig(a)\n",
    "\n",
    "print(\"EigenValue: \",w)\n",
    "print(\"EigenVector: \",v)\n",
    "\n",
    "b = np.array([[1,1,3] , [1,5,1] ,[3,1,1]])\n",
    "w,v = np.linalg.eig(b)\n",
    "\n",
    "print(\"EigenValue: \",w)\n",
    "print(\"EigenVector: \",v)\n"
   ]
  },
  {
   "cell_type": "markdown",
   "metadata": {},
   "source": [
    "#### Visualize the eigen vectors using matplotlib\n",
    "- Method 1"
   ]
  },
  {
   "cell_type": "code",
   "execution_count": null,
   "metadata": {},
   "outputs": [],
   "source": [
    "import numpy as np\n",
    "import matplotlib.pyplot as plt\n",
    "a = np.array([[5, 4], [1, 2]])\n",
    "w, M = np.linalg.eig(a)\n",
    "print('Eigenvalue:', w)\n",
    "print('Eigenvector', M)\n",
    "rows, cols = M.T.shape # Dimension of transpose of M\n",
    "colors = ['b', 'r']\n",
    "for i, l in enumerate(range(0,cols)):\n",
    "  plt.arrow(0, 0, M[0, i], M[1, i], head_width=0.15, head_length=0.15, color=colors[i], length_includes_head=True)\n",
    "\n",
    "plt.plot(0, 0, 'og')  # plot a point (green) at the origin\n",
    "plt.axis('equal')\n",
    "plt.xlim([-3, 3])\n",
    "plt.ylim([-3, 3])\n",
    "plt.show()"
   ]
  },
  {
   "cell_type": "markdown",
   "metadata": {},
   "source": [
    "- Method 2"
   ]
  },
  {
   "cell_type": "code",
   "execution_count": 8,
   "metadata": {},
   "outputs": [
    {
     "name": "stdout",
     "output_type": "stream",
     "text": [
      "EigenValue\n",
      "[6. 1.]\n",
      "EigenVector\n",
      "[[ 0.9701425  -0.70710678]\n",
      " [ 0.24253563  0.70710678]]\n"
     ]
    },
    {
     "data": {
      "image/png": "[encoded data removed]",
      "text/plain": [
       "<Figure size 432x288 with 1 Axes>"
      ]
     },
     "metadata": {
      "needs_background": "light"
     },
     "output_type": "display_data"
    }
   ],
   "source": [
    "import numpy as np\n",
    "import matplotlib.pyplot as plt\n",
    "a = np.array([[5,4],[1,2]])\n",
    "w,v = np.linalg.eig(a)\n",
    "\n",
    "print(\"EigenValue\",w,sep=\"\\n\")\n",
    "print(\"EigenVector\",v,sep=\"\\n\")\n",
    "\n",
    "fig = plt.figure()\n",
    "ax = plt.axes()\n",
    "ax.set_xlim([-3,3])\n",
    "ax.set_ylim([-3,3])\n",
    "start = [0,0]\n",
    "colors = ['b','r']\n",
    "for i,l in enumerate(range(0,2)):\n",
    "  ax.quiver(start[0],start[0],v[0,i],v[1,i],color = colors[i])\n",
    "plt.show()"
   ]
  },
  {
   "cell_type": "markdown",
   "metadata": {},
   "source": [
    "### Ploting 3D eigen vectors"
   ]
  },
  {
   "cell_type": "code",
   "execution_count": 13,
   "metadata": {},
   "outputs": [
    {
     "name": "stdout",
     "output_type": "stream",
     "text": [
      "EigenValue:  [ 1.  4. -1.]\n",
      "Eigenvector: [[-0.81649658  0.57735027  0.        ]\n",
      " [ 0.40824829  0.57735027  0.70710678]\n",
      " [-0.40824829 -0.57735027  0.70710678]]\n"
     ]
    },
    {
     "data": {
      "image/png": "[encoded data removed]",
      "text/plain": [
       "<Figure size 432x288 with 1 Axes>"
      ]
     },
     "metadata": {
      "needs_background": "light"
     },
     "output_type": "display_data"
    }
   ],
   "source": [
    "import numpy as np\n",
    "import matplotlib.pyplot as plt\n",
    "\n",
    "a = np.array([[2,1,-1],[1,1,-2],[-1,-2,1]])\n",
    "\n",
    "w,v = np.linalg.eig(a)\n",
    "print(\"EigenValue: \",w)\n",
    "print(\"Eigenvector:\",v)\n",
    "fig = plt.figure()\n",
    "ax = plt.axes(projection = \"3d\")\n",
    "ax.set_xlim([-2,2])\n",
    "ax.set_ylim([-2,2])\n",
    "ax.set_zlim([-2,2])\n",
    "start = [0,0,0]\n",
    "for i,l in enumerate(range(0,3)):\n",
    "  ax.quiver(start[0],start[0],start[0],v[0,i],v[1,i],v[2,i])\n",
    "plt.show()"
   ]
  }
 ],
 "metadata": {
  "interpreter": {
   "hash": "4ce0e62306dd6a5716965d4519ada776f947e6dfc145b604b11307c10277ef29"
  },
  "kernelspec": {
   "display_name": "Python 3.10.0 64-bit",
   "language": "python",
   "name": "python3"
  },
  "language_info": {
   "codemirror_mode": {
    "name": "ipython",
    "version": 3
   },
   "file_extension": ".py",
   "mimetype": "text/x-python",
   "name": "python",
   "nbconvert_exporter": "python",
   "pygments_lexer": "ipython3",
   "version": "3.10.0"
  },
  "orig_nbformat": 4
 },
 "nbformat": 4,
 "nbformat_minor": 2
}

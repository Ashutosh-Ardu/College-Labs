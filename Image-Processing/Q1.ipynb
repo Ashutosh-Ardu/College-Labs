{
 "cells": [
  {
   "cell_type": "markdown",
   "metadata": {},
   "source": [
    "#### Convert color image to grayscale image"
   ]
  },
  {
   "cell_type": "code",
   "execution_count": 2,
   "metadata": {},
   "outputs": [],
   "source": [
    "import numpy as np\n",
    "import cv2 as ll"
   ]
  },
  {
   "cell_type": "code",
   "execution_count": 1,
   "metadata": {},
   "outputs": [],
   "source": [
    "import numpy as np\n",
    "import cv2 as ll\n",
    "img = ll.imread(\"D:\\VIT\\Second-Yr-Winter\\SignalProcessing_TH\\DA2\\messi.jpg\",0)\n",
    "ll.imshow(\"output\",img)\n",
    "ll.imwrite('new.jpg',img)\n",
    "ll.waitKey(0)\n",
    "ll.destroyAllWindows()"
   ]
  },
  {
   "cell_type": "markdown",
   "metadata": {},
   "source": [
    "#### Perform Image Negation"
   ]
  },
  {
   "cell_type": "code",
   "execution_count": 2,
   "metadata": {},
   "outputs": [],
   "source": [
    "import cv2 as cv\n",
    "\n",
    "img = cv.imread('new.jpg',0)\n",
    "img1 = 255 - img\n",
    "\n",
    "cv.imshow('input',img)\n",
    "cv.imshow('image negated',img1)\n",
    "cv.imwrite('new1.jpg',img1)\n",
    "cv.destroyAllWindows()"
   ]
  },
  {
   "cell_type": "markdown",
   "metadata": {},
   "source": [
    "#### Log Transformation \n",
    "- c = 50 "
   ]
  },
  {
   "cell_type": "code",
   "execution_count": 5,
   "metadata": {},
   "outputs": [],
   "source": [
    "import cv2 as cv\n",
    "import numpy as np\n",
    "\n",
    "img = cv.imread('log.png',0)\n",
    "img1 = np.uint8(np.log1p(img))\n",
    "\n",
    "th = 1\n",
    "out = cv.threshold(img1,th,255,cv.THRESH_BINARY)[1]\n",
    "\n",
    "cv.imshow('input',img)\n",
    "cv.imshow('out',out)\n",
    "cv.imwrite('new2.jpg',out)\n",
    "cv.destroyAllWindows()"
   ]
  },
  {
   "cell_type": "markdown",
   "metadata": {},
   "source": [
    "#### Gamma Correction"
   ]
  },
  {
   "cell_type": "code",
   "execution_count": 10,
   "metadata": {},
   "outputs": [],
   "source": [
    "import cv2 as cv\n",
    "import numpy as np\n",
    "\n",
    "img1 = cv.imread('log.png',0)\n",
    "\n",
    "gamma = 2\n",
    "img2 = np.power(img1,gamma)\n",
    "\n",
    "gamma = 3\n",
    "img3 = np.power(img1,gamma)\n",
    "\n",
    "gamma = 4\n",
    "img4 = np.power(img1,gamma)\n",
    "\n",
    "cv.imshow('input',img1)\n",
    "cv.imshow('img2',img2)\n",
    "cv.imshow('img3',img3)\n",
    "cv.imshow('img4',img4)\n",
    "\n",
    "cv.waitKey(0)\n",
    "cv.destroyAllWindows()"
   ]
  }
 ],
 "metadata": {
  "interpreter": {
   "hash": "4ce0e62306dd6a5716965d4519ada776f947e6dfc145b604b11307c10277ef29"
  },
  "kernelspec": {
   "display_name": "Python 3.10.0 64-bit",
   "language": "python",
   "name": "python3"
  },
  "language_info": {
   "codemirror_mode": {
    "name": "ipython",
    "version": 3
   },
   "file_extension": ".py",
   "mimetype": "text/x-python",
   "name": "python",
   "nbconvert_exporter": "python",
   "pygments_lexer": "ipython3",
   "version": "3.10.0"
  },
  "orig_nbformat": 4
 },
 "nbformat": 4,
 "nbformat_minor": 2
}

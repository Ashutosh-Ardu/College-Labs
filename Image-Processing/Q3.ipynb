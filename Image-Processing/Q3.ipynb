{
 "cells": [
  {
   "cell_type": "markdown",
   "metadata": {},
   "source": [
    "#### Salt and Pepper Noise removal/smoothening"
   ]
  },
  {
   "cell_type": "markdown",
   "metadata": {},
   "source": [
    "#### Gaussian Filters "
   ]
  },
  {
   "cell_type": "code",
   "execution_count": 2,
   "metadata": {},
   "outputs": [],
   "source": [
    "import cv2 as cv\n",
    "from skimage import img_as_float,io\n",
    "from skimage.filters import gaussian\n",
    "\n",
    "img = cv.imread('salt.png',0)\n",
    "\n",
    "out1 = cv.GaussianBlur(img,(3,3),0,borderType = cv.BORDER_CONSTANT) # using cv2 package\n",
    "out2 = gaussian(img,sigma = 1,mode = 'constant',cval = 0.0) # using skimage package\n",
    "\n",
    "cv.imshow('Original',img)\n",
    "cv.imshow('Using CV2 Gaussian',out1)\n",
    "cv.imshow('Using Skimage',out2)\n",
    "cv.imwrite('new5.png',out2)\n",
    "cv.waitKey(0)\n",
    "cv.destroyAllWindows()"
   ]
  },
  {
   "cell_type": "markdown",
   "metadata": {},
   "source": [
    "#### Using Median Filters"
   ]
  },
  {
   "cell_type": "code",
   "execution_count": 14,
   "metadata": {},
   "outputs": [],
   "source": [
    "import cv2 as cv\n",
    "from skimage.filters.rank import median\n",
    "from skimage.morphology import disk\n",
    "img = cv.imread('salt.png',0)\n",
    "\n",
    "out1 = cv.medianBlur(img,3)\n",
    "# out2 = median(img,disk(3),mode = 'constant',cval = 0.0)\n",
    "\n",
    "cv.imshow('Original',img)\n",
    "cv.imshow('CV2 Median',out1)\n",
    "cv.imshow('Using Skimage',out2)\n",
    "\n",
    "cv.imwrite('new6.png',out1)\n",
    "\n",
    "cv.waitKey(0)\n",
    "cv.destroyAllWindows()"
   ]
  },
  {
   "cell_type": "markdown",
   "metadata": {},
   "source": [
    "#### PSNR after using Median Filters"
   ]
  },
  {
   "cell_type": "code",
   "execution_count": 1,
   "metadata": {},
   "outputs": [
    {
     "name": "stdout",
     "output_type": "stream",
     "text": [
      "PSNR value is 33.07697264322523 dB\n"
     ]
    }
   ],
   "source": [
    "\n",
    "from math import log10, sqrt\n",
    "import cv2\n",
    "import numpy as np\n",
    "  \n",
    "def PSNR(original, compressed):\n",
    "    mse = np.mean((original - compressed) ** 2)\n",
    "    if(mse == 0):  # MSE is zero means no noise is present in the signal .\n",
    "                  # Therefore PSNR have no importance.\n",
    "        return 100\n",
    "    max_pixel = 255.0\n",
    "    psnr = 20 * log10(max_pixel / sqrt(mse))\n",
    "    return psnr\n",
    "  \n",
    "def main():\n",
    "     original = cv2.imread(\"salt.png\")\n",
    "     compressed = cv2.imread(\"new6.png\", 1)\n",
    "     value = PSNR(original, compressed)\n",
    "     print(f\"PSNR value is {value} dB\")\n",
    "       \n",
    "if __name__ == \"__main__\":\n",
    "    main()"
   ]
  },
  {
   "cell_type": "markdown",
   "metadata": {},
   "source": [
    "#### PSNR after using Gaussian Filters"
   ]
  },
  {
   "cell_type": "code",
   "execution_count": 20,
   "metadata": {},
   "outputs": [
    {
     "name": "stdout",
     "output_type": "stream",
     "text": [
      "PSNR value is 27.9623256934155 dB\n"
     ]
    }
   ],
   "source": [
    "\n",
    "from math import log10, sqrt\n",
    "import cv2\n",
    "import numpy as np\n",
    "  \n",
    "def PSNR(original, compressed):\n",
    "    mse = np.mean((original - compressed) ** 2)\n",
    "    if(mse == 0):  # MSE is zero means no noise is present in the signal .\n",
    "                  # Therefore PSNR have no importance.\n",
    "        return 100\n",
    "    max_pixel = 255.0\n",
    "    psnr = 20 * log10(max_pixel / sqrt(mse))\n",
    "    return psnr\n",
    "  \n",
    "def main():\n",
    "     original = cv2.imread(\"salt.png\")\n",
    "     compressed = cv2.imread(\"new5.png\", 1)\n",
    "     value = PSNR(original, compressed)\n",
    "     print(f\"PSNR value is {value} dB\")\n",
    "       \n",
    "if __name__ == \"__main__\":\n",
    "    main()"
   ]
  },
  {
   "cell_type": "markdown",
   "metadata": {},
   "source": [
    "#### PSNR using Mean Filters"
   ]
  },
  {
   "cell_type": "code",
   "execution_count": 21,
   "metadata": {},
   "outputs": [
    {
     "name": "stdout",
     "output_type": "stream",
     "text": [
      "PSNR value is 30.226331047920475 dB\n"
     ]
    }
   ],
   "source": [
    "\n",
    "from math import log10, sqrt\n",
    "import cv2\n",
    "import numpy as np\n",
    "  \n",
    "def PSNR(original, compressed):\n",
    "    mse = np.mean((original - compressed) ** 2)\n",
    "    if(mse == 0):  # MSE is zero means no noise is present in the signal .\n",
    "                  # Therefore PSNR have no importance.\n",
    "        return 100\n",
    "    max_pixel = 255.0\n",
    "    psnr = 20 * log10(max_pixel / sqrt(mse))\n",
    "    return psnr\n",
    "  \n",
    "def main():\n",
    "     original = cv2.imread(\"salt.png\") # source image\n",
    "     compressed = cv2.imread(\"final.png\", 1) # image in comparision\n",
    "     value = PSNR(original, compressed)\n",
    "     print(f\"PSNR value is {value} dB\")\n",
    "       \n",
    "if __name__ == \"__main__\":\n",
    "    main()"
   ]
  }
 ],
 "metadata": {
  "interpreter": {
   "hash": "4ce0e62306dd6a5716965d4519ada776f947e6dfc145b604b11307c10277ef29"
  },
  "kernelspec": {
   "display_name": "Python 3.10.0 64-bit",
   "language": "python",
   "name": "python3"
  },
  "language_info": {
   "codemirror_mode": {
    "name": "ipython",
    "version": 3
   },
   "file_extension": ".py",
   "mimetype": "text/x-python",
   "name": "python",
   "nbconvert_exporter": "python",
   "pygments_lexer": "ipython3",
   "version": "3.10.0"
  },
  "orig_nbformat": 4
 },
 "nbformat": 4,
 "nbformat_minor": 2
}
